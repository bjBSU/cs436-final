{
 "cells": [
  {
   "cell_type": "markdown",
   "metadata": {},
   "source": [
    "# Bird Classification - Final Project"
   ]
  },
  {
   "cell_type": "markdown",
   "metadata": {},
   "source": [
    "### BERT fine-tuning for document classification"
   ]
  },
  {
   "cell_type": "code",
   "execution_count": 1,
   "metadata": {},
   "outputs": [
    {
     "name": "stdout",
     "output_type": "stream",
     "text": [
      "Requirement already satisfied: transformers in /home/ec2-user/anaconda3/envs/python3/lib/python3.10/site-packages (4.51.3)\n",
      "Requirement already satisfied: torch in /home/ec2-user/anaconda3/envs/python3/lib/python3.10/site-packages (2.6.0)\n",
      "Requirement already satisfied: filelock in /home/ec2-user/anaconda3/envs/python3/lib/python3.10/site-packages (from transformers) (3.16.1)\n",
      "Requirement already satisfied: huggingface-hub<1.0,>=0.30.0 in /home/ec2-user/anaconda3/envs/python3/lib/python3.10/site-packages (from transformers) (0.30.2)\n",
      "Requirement already satisfied: numpy>=1.17 in /home/ec2-user/anaconda3/envs/python3/lib/python3.10/site-packages (from transformers) (1.26.4)\n",
      "Requirement already satisfied: packaging>=20.0 in /home/ec2-user/anaconda3/envs/python3/lib/python3.10/site-packages (from transformers) (24.2)\n",
      "Requirement already satisfied: pyyaml>=5.1 in /home/ec2-user/anaconda3/envs/python3/lib/python3.10/site-packages (from transformers) (6.0.2)\n",
      "Requirement already satisfied: regex!=2019.12.17 in /home/ec2-user/anaconda3/envs/python3/lib/python3.10/site-packages (from transformers) (2024.11.6)\n",
      "Requirement already satisfied: requests in /home/ec2-user/anaconda3/envs/python3/lib/python3.10/site-packages (from transformers) (2.32.3)\n",
      "Requirement already satisfied: tokenizers<0.22,>=0.21 in /home/ec2-user/anaconda3/envs/python3/lib/python3.10/site-packages (from transformers) (0.21.1)\n",
      "Requirement already satisfied: safetensors>=0.4.3 in /home/ec2-user/anaconda3/envs/python3/lib/python3.10/site-packages (from transformers) (0.5.3)\n",
      "Requirement already satisfied: tqdm>=4.27 in /home/ec2-user/anaconda3/envs/python3/lib/python3.10/site-packages (from transformers) (4.67.1)\n",
      "Requirement already satisfied: typing-extensions>=4.10.0 in /home/ec2-user/anaconda3/envs/python3/lib/python3.10/site-packages (from torch) (4.13.2)\n",
      "Requirement already satisfied: networkx in /home/ec2-user/anaconda3/envs/python3/lib/python3.10/site-packages (from torch) (3.4)\n",
      "Requirement already satisfied: jinja2 in /home/ec2-user/anaconda3/envs/python3/lib/python3.10/site-packages (from torch) (3.1.6)\n",
      "Requirement already satisfied: fsspec in /home/ec2-user/anaconda3/envs/python3/lib/python3.10/site-packages (from torch) (2025.3.2)\n",
      "Requirement already satisfied: nvidia-cuda-nvrtc-cu12==12.4.127 in /home/ec2-user/anaconda3/envs/python3/lib/python3.10/site-packages (from torch) (12.4.127)\n",
      "Requirement already satisfied: nvidia-cuda-runtime-cu12==12.4.127 in /home/ec2-user/anaconda3/envs/python3/lib/python3.10/site-packages (from torch) (12.4.127)\n",
      "Requirement already satisfied: nvidia-cuda-cupti-cu12==12.4.127 in /home/ec2-user/anaconda3/envs/python3/lib/python3.10/site-packages (from torch) (12.4.127)\n",
      "Requirement already satisfied: nvidia-cudnn-cu12==9.1.0.70 in /home/ec2-user/anaconda3/envs/python3/lib/python3.10/site-packages (from torch) (9.1.0.70)\n",
      "Requirement already satisfied: nvidia-cublas-cu12==12.4.5.8 in /home/ec2-user/anaconda3/envs/python3/lib/python3.10/site-packages (from torch) (12.4.5.8)\n",
      "Requirement already satisfied: nvidia-cufft-cu12==11.2.1.3 in /home/ec2-user/anaconda3/envs/python3/lib/python3.10/site-packages (from torch) (11.2.1.3)\n",
      "Requirement already satisfied: nvidia-curand-cu12==10.3.5.147 in /home/ec2-user/anaconda3/envs/python3/lib/python3.10/site-packages (from torch) (10.3.5.147)\n",
      "Requirement already satisfied: nvidia-cusolver-cu12==11.6.1.9 in /home/ec2-user/anaconda3/envs/python3/lib/python3.10/site-packages (from torch) (11.6.1.9)\n",
      "Requirement already satisfied: nvidia-cusparse-cu12==12.3.1.170 in /home/ec2-user/anaconda3/envs/python3/lib/python3.10/site-packages (from torch) (12.3.1.170)\n",
      "Requirement already satisfied: nvidia-cusparselt-cu12==0.6.2 in /home/ec2-user/anaconda3/envs/python3/lib/python3.10/site-packages (from torch) (0.6.2)\n",
      "Requirement already satisfied: nvidia-nccl-cu12==2.21.5 in /home/ec2-user/anaconda3/envs/python3/lib/python3.10/site-packages (from torch) (2.21.5)\n",
      "Requirement already satisfied: nvidia-nvtx-cu12==12.4.127 in /home/ec2-user/anaconda3/envs/python3/lib/python3.10/site-packages (from torch) (12.4.127)\n",
      "Requirement already satisfied: nvidia-nvjitlink-cu12==12.4.127 in /home/ec2-user/anaconda3/envs/python3/lib/python3.10/site-packages (from torch) (12.4.127)\n",
      "Requirement already satisfied: triton==3.2.0 in /home/ec2-user/anaconda3/envs/python3/lib/python3.10/site-packages (from torch) (3.2.0)\n",
      "Requirement already satisfied: sympy==1.13.1 in /home/ec2-user/anaconda3/envs/python3/lib/python3.10/site-packages (from torch) (1.13.1)\n",
      "Requirement already satisfied: mpmath<1.4,>=1.1.0 in /home/ec2-user/anaconda3/envs/python3/lib/python3.10/site-packages (from sympy==1.13.1->torch) (1.3.0)\n",
      "Requirement already satisfied: MarkupSafe>=2.0 in /home/ec2-user/anaconda3/envs/python3/lib/python3.10/site-packages (from jinja2->torch) (3.0.2)\n",
      "Requirement already satisfied: charset_normalizer<4,>=2 in /home/ec2-user/anaconda3/envs/python3/lib/python3.10/site-packages (from requests->transformers) (3.4.1)\n",
      "Requirement already satisfied: idna<4,>=2.5 in /home/ec2-user/anaconda3/envs/python3/lib/python3.10/site-packages (from requests->transformers) (3.10)\n",
      "Requirement already satisfied: urllib3<3,>=1.21.1 in /home/ec2-user/anaconda3/envs/python3/lib/python3.10/site-packages (from requests->transformers) (2.4.0)\n",
      "Requirement already satisfied: certifi>=2017.4.17 in /home/ec2-user/anaconda3/envs/python3/lib/python3.10/site-packages (from requests->transformers) (2025.1.31)\n"
     ]
    }
   ],
   "source": [
    "!pip install transformers torch"
   ]
  },
  {
   "cell_type": "code",
   "execution_count": 1,
   "metadata": {},
   "outputs": [
    {
     "data": {
      "text/plain": [
       "'cpu'"
      ]
     },
     "execution_count": 1,
     "metadata": {},
     "output_type": "execute_result"
    }
   ],
   "source": [
    "import os\n",
    "import re\n",
    "import numpy as np \n",
    "from sklearn.metrics import accuracy_score\n",
    "\n",
    "import transformers\n",
    "from transformers import BertTokenizer, BertModel\n",
    "\n",
    "import torch\n",
    "from torch import cuda\n",
    "#from tqdm import tqdm_notebook as tqdm\n",
    "from tqdm.notebook import tqdm\n",
    "device = 'cuda' if cuda.is_available() else 'cpu'\n",
    "\n",
    "device"
   ]
  },
  {
   "cell_type": "markdown",
   "metadata": {},
   "source": [
    "### Prepare the data\n",
    "since the target is the names we will split the data by bird names (y) and the rest of the features (X)"
   ]
  },
  {
   "cell_type": "code",
   "execution_count": 2,
   "metadata": {},
   "outputs": [],
   "source": [
    "import pandas as pd\n",
    "# Read the TXT file into a DataFrame\n",
    "df = pd.read_csv(\"Bird_Data.txt\", delimiter=\",\", header=0)  # Adjust the delimiter based on your file format\n",
    "\n",
    "df.rename(columns={ #rename the columns to be more consice\n",
    "    \"Frequency %\": \"Frequency\",\n",
    "    \"Size (Max) in\": \"Size\",\n",
    "    \"Weight (Max) g\": \"Weight\"\n",
    "}, inplace=True)\n",
    "\n",
    "df.fillna(\"Unknown\", inplace=True)  # Replace NaN with 'Unknown'\n",
    "#df.dropna(inplace=True) #drop rows with missing data\n",
    "\n",
    "# Assign X and Y values\n",
    "X = df[['Frequency', 'Colors', 'Size', 'Weight', 'Genus', 'Family', 'Description']]  # Feature columns\n",
    "y = df['Names']  # Target column\n",
    "\n",
    "# Optionally save the X and Y values into separate files\n",
    "X.to_csv(\"X_values.csv\", index=False)\n",
    "y.to_csv(\"Y_values.csv\", index=False)"
   ]
  },
  {
   "cell_type": "code",
   "execution_count": 3,
   "metadata": {},
   "outputs": [
    {
     "data": {
      "text/plain": [
       "(99, 99)"
      ]
     },
     "execution_count": 3,
     "metadata": {},
     "output_type": "execute_result"
    }
   ],
   "source": [
    "len(X), len(y)"
   ]
  },
  {
   "cell_type": "code",
   "execution_count": 4,
   "metadata": {},
   "outputs": [],
   "source": [
    "#for validation testing\n",
    "prompt = pd.read_csv(\"prompt_eng.csv\", header=0)\n",
    "X_prompt = prompt['sentence_description']         # descriptions to feed into model\n",
    "Y_prompt = prompt['desired_bird']                  # actual correct bird name\n",
    "#test_y_prompt = np.array(X_prompt)"
   ]
  },
  {
   "cell_type": "markdown",
   "metadata": {},
   "source": [
    "### An easy train/test split"
   ]
  },
  {
   "cell_type": "code",
   "execution_count": 5,
   "metadata": {},
   "outputs": [
    {
     "data": {
      "text/plain": [
       "(70, 70, 29, 29)"
      ]
     },
     "execution_count": 5,
     "metadata": {},
     "output_type": "execute_result"
    }
   ],
   "source": [
    "# Beth - 4/15/25: Proposing we update split to something more like 70 to 30, I think the previous\n",
    "# method it was overlapping since output was (90, 90, 89, 89)\n",
    "\n",
    "# Beth's Proposed Code:\n",
    "train_X = X[:70]\n",
    "train_y = np.array(y[:70])\n",
    "test_X = X[70:] # Captures 29%\n",
    "test_y = np.array(y[70:]) # Captures 29%\n",
    "\n",
    "len(train_X), len(train_y), len(test_X), len(test_y)\n",
    "\n",
    "#Output: (70, 70, 29, 29) ensures no overlapping\n"
   ]
  },
  {
   "cell_type": "code",
   "execution_count": 6,
   "metadata": {},
   "outputs": [
    {
     "data": {
      "text/plain": [
       "8"
      ]
     },
     "execution_count": 6,
     "metadata": {},
     "output_type": "execute_result"
    }
   ],
   "source": [
    "# not needed for training or evaluation, but useful for mapping examples\n",
    "labels = {\n",
    "    0:'Names',\n",
    "    1:'Frequency',\n",
    "    2:'Colors',\n",
    "    3:'Size',\n",
    "    4:'Weight',\n",
    "    5:'Genus',\n",
    "    6:'Family',\n",
    "    7:'Description'\n",
    "}\n",
    "\n",
    "len(labels)"
   ]
  },
  {
   "cell_type": "markdown",
   "metadata": {},
   "source": [
    "### Fine-tune BERT on the dataset"
   ]
  },
  {
   "cell_type": "markdown",
   "metadata": {},
   "source": [
    "*Project language fine-tuning*\n",
    "\n",
    "*loss function needs to change* \n",
    "\n",
    "*num-out needs to change*\n",
    "\n",
    "*Not a binary task so this means we will need to use something like cross enropy - torch uses index values*\n",
    "\n",
    "*try to get around 80% on the test set*"
   ]
  },
  {
   "cell_type": "markdown",
   "metadata": {},
   "source": [
    "## Torch Data Set"
   ]
  },
  {
   "cell_type": "code",
   "execution_count": 7,
   "metadata": {},
   "outputs": [],
   "source": [
    "class MultiLabelDataset(torch.utils.data.Dataset):\n",
    "\n",
    "    def __init__(self, text, labels, tokenizer, max_len):\n",
    "        self.tokenizer = tokenizer\n",
    "        self.text = text\n",
    "        self.targets = labels\n",
    "        self.targets = torch.tensor(labels, dtype=torch.long)\n",
    "        self.max_len = max_len\n",
    "\n",
    "    def __len__(self):\n",
    "        return len(self.text)\n",
    "\n",
    "    def __getitem__(self, index):\n",
    "        text = self.text[index]\n",
    "        inputs = self.tokenizer.encode_plus(\n",
    "            text,\n",
    "            None,\n",
    "            add_special_tokens=True,\n",
    "            max_length=self.max_len,\n",
    "            pad_to_max_length=True,\n",
    "            padding = 'max_length',\n",
    "            truncation=True,\n",
    "            return_token_type_ids=True\n",
    "        )\n",
    "        ids = inputs['input_ids']\n",
    "        mask = inputs['attention_mask']\n",
    "        token_type_ids = inputs[\"token_type_ids\"]\n",
    "\n",
    "\n",
    "        return {\n",
    "            \n",
    "            'ids': torch.tensor(ids, dtype=torch.long),\n",
    "            'mask': torch.tensor(mask, dtype=torch.long),\n",
    "            'token_type_ids': torch.tensor(token_type_ids, dtype=torch.long),\n",
    "            'targets' : self.targets[index]\n",
    "            #.clone().detach()\n",
    "            #'targets': torch.tensor(self.targets[index], dtype=torch.long)\n",
    "        }"
   ]
  },
  {
   "cell_type": "markdown",
   "metadata": {},
   "source": [
    "## Bert Class\n",
    "- first \"layer\" is a pre-trained BERT model\n",
    "- you can add whatever layers you want after that"
   ]
  },
  {
   "cell_type": "code",
   "execution_count": 8,
   "metadata": {},
   "outputs": [],
   "source": [
    "class BERTClass(torch.nn.Module):\n",
    "    def __init__(self, NUM_OUT):\n",
    "        super(BERTClass, self).__init__()\n",
    "\n",
    "        # Get the Bert Model that is pretrained\n",
    "        # self.l1 = BertModel.from_pretrained(\"bert-base-uncased\")#bert-base-uncased and BertModel\n",
    "        self.l1 = BertModel.from_pretrained(\"prajjwal1/bert-mini\")\n",
    "\n",
    "        #Pass through the classifier we designed\n",
    "        self.pre_classifier = torch.nn.Linear(self.l1.config.hidden_size, 256)#768\n",
    "        self.classifier = torch.nn.Linear(256, NUM_OUT)#768 or 196\n",
    "        self.dropout = torch.nn.Dropout(0.5)\n",
    "\n",
    "        # Apply softmax activation\n",
    "        self.softmax = torch.nn.Softmax(dim=1)\n",
    "\n",
    "    \n",
    "    def forward(self, input_ids, attention_mask, token_type_ids):\n",
    "        output_1 = self.l1(input_ids=input_ids, attention_mask=attention_mask)\n",
    "        hidden_state = output_1[0]\n",
    "        pooler = hidden_state[:, 0]\n",
    "        # Beth Fix: 4/21/25 - Need to reduce pooler batch size\n",
    "        reduced_pooler = self.pre_classifier(pooler)\n",
    "        output = self.classifier(reduced_pooler)\n",
    "        # output = self.classifier(pooler)\n",
    "        output = self.softmax(output) # Beth - Should not be used with CrossEntropyloss\n",
    "        return output"
   ]
  },
  {
   "cell_type": "markdown",
   "metadata": {},
   "source": [
    "## Helpful functions:\n",
    "### Loss\n",
    "- This task is binary, so it uses binary crossentropy loss\n",
    "- Tasks with more labels will use categorical crossentropy\n",
    "- Tasks that don't have labels, but rather have distributions should use KL divergence\n",
    "- Tasks that don't have distributions should use something like RMSE loss\n",
    "### Train\n",
    "- Steps through the data batch by batch\n",
    "- grabs ids, masks, and token_type_ids which are required inputs for BERT\n",
    "- inputs are passed through the model, compared to targets, computes loss function, backprops\n",
    "### Validation\n",
    "- Takes a model, passes inputs\n",
    "- Need to use the targets from here because they are potentially shuffled!"
   ]
  },
  {
   "cell_type": "code",
   "execution_count": 9,
   "metadata": {},
   "outputs": [],
   "source": [
    "# Loss Function - Uses Categorical Cross Entropy instead of Binary Entropy\n",
    "def loss_fn(outputs, targets):\n",
    "    return torch.nn.CrossEntropyLoss()(outputs, targets)\n",
    "\n",
    "# Train Function - Step through data batch by batch\n",
    "def train(model, training_loader, optimizer):\n",
    "    model.train()\n",
    "    \n",
    "    for data in tqdm(training_loader):\n",
    "        ids = data['ids'].to(device, dtype = torch.long)\n",
    "        mask = data['mask'].to(device, dtype = torch.long)\n",
    "        token_type_ids = data['token_type_ids'].to(device, dtype = torch.long)\n",
    "        targets = data['targets'].to(device, dtype = torch.long)\n",
    "\n",
    "        outputs = model(ids, mask, token_type_ids)\n",
    "\n",
    "        optimizer.zero_grad()\n",
    "        loss = loss_fn(outputs, targets)\n",
    "\n",
    "        optimizer.zero_grad() # Beth: Removing duplicate\n",
    "        loss.backward()\n",
    "        optimizer.step()\n",
    "    return loss\n",
    "\n",
    "# Validation Function - Take Model Pass Inputs\n",
    "def validation(model, testing_loader):\n",
    "    model.eval()\n",
    "    fin_targets=[]\n",
    "    fin_outputs=[]\n",
    "    with torch.no_grad():\n",
    "        for data in tqdm(testing_loader):\n",
    "            targets = data['targets']\n",
    "            ids = data['ids'].to(device, dtype = torch.long)\n",
    "            mask = data['mask'].to(device, dtype = torch.long)\n",
    "            token_type_ids = data['token_type_ids'].to(device, dtype = torch.long)\n",
    "            \n",
    "            outputs = model(ids, mask, token_type_ids)\n",
    "            #outputs = torch.sigmoid(outputs).cpu().detach()\n",
    "            outputs = torch.argmax(outputs, dim=1).cpu().detach()\n",
    "            fin_outputs.extend(outputs.tolist())\n",
    "            fin_targets.extend(targets.tolist())\n",
    "    return torch.tensor(fin_outputs), torch.tensor(fin_targets)\n",
    "\n",
    "# Gets top 3 results Function - Take Model Pass Inputs\n",
    "def validation_top3(model, testing_loader, le):\n",
    "    model.eval()  # Ensure model is in evaluation mode\n",
    "    fin_targets = []\n",
    "    fin_outputs = []\n",
    "\n",
    "    with torch.no_grad():  # No gradients needed for validation\n",
    "        for data in tqdm(testing_loader):\n",
    "            targets = data['targets']  # True labels (bird names or IDs)\n",
    "            ids = data['ids'].to(device, dtype=torch.long)\n",
    "            mask = data['mask'].to(device, dtype=torch.long)\n",
    "            token_type_ids = data['token_type_ids'].to(device, dtype=torch.long)\n",
    "        \n",
    "            outputs = model(ids, mask, token_type_ids)  # Model's outputs (batch_size, num_classes)\n",
    "\n",
    "            # Get top 3 predictions for each sample\n",
    "            top3_vals, top3_indices = torch.topk(outputs, k=3, dim=1)  # (batch_size, 3)\n",
    "\n",
    "            # Map top 3 indices to bird names using label encoder\n",
    "            top3_names_batch = []\n",
    "            for indices in top3_indices.cpu().numpy():  # Iterate over each item in the batch\n",
    "                names = le.inverse_transform(indices)  # Convert indices to bird names\n",
    "                top3_names_batch.append(names.tolist())  # Store as a list of 3 names\n",
    "\n",
    "            fin_outputs.extend(top3_names_batch)  # Add the top 3 predictions\n",
    "            fin_targets.extend(targets.tolist())  # Add the ground truth targets\n",
    "\n",
    "    return fin_outputs, fin_targets"
   ]
  },
  {
   "cell_type": "markdown",
   "metadata": {},
   "source": [
    "## The Tokenizer:"
   ]
  },
  {
   "cell_type": "code",
   "execution_count": null,
   "metadata": {},
   "outputs": [
    {
     "data": {
      "text/plain": [
       "{'input_ids': tensor([[  101,  4242,   102,  ...,     0,     0,     0],\n",
       "        [  101,  3609,   102,  ...,     0,     0,     0],\n",
       "        [  101,  2227,  1010,  ...,     0,     0,     0],\n",
       "        ...,\n",
       "        [  101,  1037,  5810,  ...,     0,     0,     0],\n",
       "        [  101,  1037,  2235,  ...,     0,     0,     0],\n",
       "        [  101,  1037, 20640,  ...,     0,     0,     0]]), 'token_type_ids': tensor([[0, 0, 0,  ..., 0, 0, 0],\n",
       "        [0, 0, 0,  ..., 0, 0, 0],\n",
       "        [0, 0, 0,  ..., 0, 0, 0],\n",
       "        ...,\n",
       "        [0, 0, 0,  ..., 0, 0, 0],\n",
       "        [0, 0, 0,  ..., 0, 0, 0],\n",
       "        [0, 0, 0,  ..., 0, 0, 0]]), 'attention_mask': tensor([[1, 1, 1,  ..., 0, 0, 0],\n",
       "        [1, 1, 1,  ..., 0, 0, 0],\n",
       "        [1, 1, 1,  ..., 0, 0, 0],\n",
       "        ...,\n",
       "        [1, 1, 1,  ..., 0, 0, 0],\n",
       "        [1, 1, 1,  ..., 0, 0, 0],\n",
       "        [1, 1, 1,  ..., 0, 0, 0]])}"
      ]
     },
     "execution_count": 10,
     "metadata": {},
     "output_type": "execute_result"
    }
   ],
   "source": [
    "tokenizer = BertTokenizer.from_pretrained('prajjwal1/bert-mini')\n",
    "\n",
    "#Beth - 4/15/25: Convert train to proper data type:\n",
    "desc_list = train_X[\"Description\"].tolist()\n",
    "\n",
    "#Beth - 4/21/25: Trying a different method to encode since we use desc_list so need batch\n",
    "tokenizer.batch_encode_plus(\n",
    "            desc_list, # Beth 4/15/25: replaced train_X[5] with the list version (DF was erroring)\n",
    "            add_special_tokens=True,\n",
    "            max_length=128,\n",
    "            padding='max_length',\n",
    "            truncation=True,\n",
    "            return_token_type_ids=True,\n",
    "            return_attention_mask=True,\n",
    "            return_tensors='pt'              \n",
    "        )"
   ]
  },
  {
   "cell_type": "markdown",
   "metadata": {},
   "source": [
    "## Training Setup "
   ]
  },
  {
   "cell_type": "code",
   "execution_count": 11,
   "metadata": {},
   "outputs": [],
   "source": [
    "from sklearn.preprocessing import MultiLabelBinarizer\n",
    "from sklearn.preprocessing import LabelEncoder\n",
    "\n",
    "le = LabelEncoder()\n",
    "le.fit(np.concatenate([train_y, test_y]))\n",
    "\n",
    "train_y_encoded = le.transform(train_y)\n",
    "test_y_encoded = le.transform(test_y)\n",
    "\n",
    "train_y_tensor = torch.from_numpy(train_y_encoded).long()\n",
    "test_y_tensor = torch.from_numpy(test_y_encoded).long()"
   ]
  },
  {
   "cell_type": "code",
   "execution_count": null,
   "metadata": {},
   "outputs": [
    {
     "name": "stderr",
     "output_type": "stream",
     "text": [
      "/tmp/ipykernel_29361/1357419957.py:7: UserWarning: To copy construct from a tensor, it is recommended to use sourceTensor.clone().detach() or sourceTensor.clone().detach().requires_grad_(True), rather than torch.tensor(sourceTensor).\n",
      "  self.targets = torch.tensor(labels, dtype=torch.long)\n"
     ]
    }
   ],
   "source": [
    "MAX_LEN = 128\n",
    "BATCH_SIZE = 8\n",
    "EPOCHS = 10  #5.88% for 10 and 50 epochs\n",
    "# Beth Propoal: Shouldn't this be 8?\n",
    "# NUM_OUT = 7 # binary task - 2\n",
    "\n",
    "# Beth - 4/23/25: Trying this instead, may need to focus on the actual bird names\n",
    "NUM_OUT = len(le.classes_)\n",
    "LEARNING_RATE = 2e-05 #2e-05 standard gave 5.88% with 10/50 epoch\n",
    "\n",
    "train_desc_list = train_X[\"Description\"].tolist()\n",
    "test_desc_list = test_X[\"Description\"].tolist()\n",
    "\n",
    "training_data = MultiLabelDataset(train_desc_list, train_y_tensor, tokenizer, MAX_LEN)\n",
    "test_data = MultiLabelDataset(test_desc_list, test_y_tensor, tokenizer, MAX_LEN)\n",
    "\n",
    "\n",
    "train_params = {'batch_size': BATCH_SIZE,\n",
    "                'shuffle': True,\n",
    "                'num_workers': 0\n",
    "                }\n",
    "\n",
    "test_params = {'batch_size': BATCH_SIZE,\n",
    "                'shuffle': True,\n",
    "                'num_workers': 0\n",
    "                }    \n",
    "\n",
    "training_loader = torch.utils.data.DataLoader(training_data, **train_params)\n",
    "testing_loader = torch.utils.data.DataLoader(test_data, **test_params)"
   ]
  },
  {
   "cell_type": "markdown",
   "metadata": {},
   "source": [
    "## Train and Evaluate "
   ]
  },
  {
   "cell_type": "code",
   "execution_count": 45,
   "metadata": {},
   "outputs": [
    {
     "data": {
      "application/vnd.jupyter.widget-view+json": {
       "model_id": "33c5e39acc6b41d28e5f7746b7a6264e",
       "version_major": 2,
       "version_minor": 0
      },
      "text/plain": [
       "  0%|          | 0/9 [00:00<?, ?it/s]"
      ]
     },
     "metadata": {},
     "output_type": "display_data"
    },
    {
     "name": "stdout",
     "output_type": "stream",
     "text": [
      "Epoch: 0, Loss:  4.594884395599365\n"
     ]
    },
    {
     "data": {
      "application/vnd.jupyter.widget-view+json": {
       "model_id": "f0e973fee5e24a35b5e371f2686cd342",
       "version_major": 2,
       "version_minor": 0
      },
      "text/plain": [
       "  0%|          | 0/4 [00:00<?, ?it/s]"
      ]
     },
     "metadata": {},
     "output_type": "display_data"
    },
    {
     "name": "stdout",
     "output_type": "stream",
     "text": [
      "arracy on test set 0.0\n"
     ]
    },
    {
     "data": {
      "application/vnd.jupyter.widget-view+json": {
       "model_id": "77ef5e03abd64e12b56930731f2794ef",
       "version_major": 2,
       "version_minor": 0
      },
      "text/plain": [
       "  0%|          | 0/9 [00:00<?, ?it/s]"
      ]
     },
     "metadata": {},
     "output_type": "display_data"
    },
    {
     "name": "stdout",
     "output_type": "stream",
     "text": [
      "Epoch: 1, Loss:  4.592948913574219\n"
     ]
    },
    {
     "data": {
      "application/vnd.jupyter.widget-view+json": {
       "model_id": "01cc47559388462b8326620201f6c8cb",
       "version_major": 2,
       "version_minor": 0
      },
      "text/plain": [
       "  0%|          | 0/4 [00:00<?, ?it/s]"
      ]
     },
     "metadata": {},
     "output_type": "display_data"
    },
    {
     "name": "stdout",
     "output_type": "stream",
     "text": [
      "arracy on test set 0.0\n"
     ]
    },
    {
     "data": {
      "application/vnd.jupyter.widget-view+json": {
       "model_id": "64abf48fd166445d850e7874a2341c99",
       "version_major": 2,
       "version_minor": 0
      },
      "text/plain": [
       "  0%|          | 0/9 [00:00<?, ?it/s]"
      ]
     },
     "metadata": {},
     "output_type": "display_data"
    },
    {
     "name": "stdout",
     "output_type": "stream",
     "text": [
      "Epoch: 2, Loss:  4.594738483428955\n"
     ]
    },
    {
     "data": {
      "application/vnd.jupyter.widget-view+json": {
       "model_id": "68e8f6ddf1b74714bd064cdf94b89675",
       "version_major": 2,
       "version_minor": 0
      },
      "text/plain": [
       "  0%|          | 0/4 [00:00<?, ?it/s]"
      ]
     },
     "metadata": {},
     "output_type": "display_data"
    },
    {
     "name": "stdout",
     "output_type": "stream",
     "text": [
      "arracy on test set 0.0\n"
     ]
    },
    {
     "data": {
      "application/vnd.jupyter.widget-view+json": {
       "model_id": "9e951616832542bcb44d91cf4121a4f2",
       "version_major": 2,
       "version_minor": 0
      },
      "text/plain": [
       "  0%|          | 0/9 [00:00<?, ?it/s]"
      ]
     },
     "metadata": {},
     "output_type": "display_data"
    },
    {
     "name": "stdout",
     "output_type": "stream",
     "text": [
      "Epoch: 3, Loss:  4.592576026916504\n"
     ]
    },
    {
     "data": {
      "application/vnd.jupyter.widget-view+json": {
       "model_id": "177dd3dbdc5e492db0b3a19001fbfddb",
       "version_major": 2,
       "version_minor": 0
      },
      "text/plain": [
       "  0%|          | 0/4 [00:00<?, ?it/s]"
      ]
     },
     "metadata": {},
     "output_type": "display_data"
    },
    {
     "name": "stdout",
     "output_type": "stream",
     "text": [
      "arracy on test set 0.0\n"
     ]
    },
    {
     "data": {
      "application/vnd.jupyter.widget-view+json": {
       "model_id": "076ac1087b744fa49c24de059f1d3a28",
       "version_major": 2,
       "version_minor": 0
      },
      "text/plain": [
       "  0%|          | 0/9 [00:00<?, ?it/s]"
      ]
     },
     "metadata": {},
     "output_type": "display_data"
    },
    {
     "name": "stdout",
     "output_type": "stream",
     "text": [
      "Epoch: 4, Loss:  4.592197895050049\n"
     ]
    },
    {
     "data": {
      "application/vnd.jupyter.widget-view+json": {
       "model_id": "d6b27e46e8544c1fb54ec42d223af76f",
       "version_major": 2,
       "version_minor": 0
      },
      "text/plain": [
       "  0%|          | 0/4 [00:00<?, ?it/s]"
      ]
     },
     "metadata": {},
     "output_type": "display_data"
    },
    {
     "name": "stdout",
     "output_type": "stream",
     "text": [
      "arracy on test set 0.0\n"
     ]
    },
    {
     "data": {
      "application/vnd.jupyter.widget-view+json": {
       "model_id": "51e996f6bbab4175bdb4a2f4bb82c3c3",
       "version_major": 2,
       "version_minor": 0
      },
      "text/plain": [
       "  0%|          | 0/9 [00:00<?, ?it/s]"
      ]
     },
     "metadata": {},
     "output_type": "display_data"
    },
    {
     "name": "stdout",
     "output_type": "stream",
     "text": [
      "Epoch: 5, Loss:  4.594428062438965\n"
     ]
    },
    {
     "data": {
      "application/vnd.jupyter.widget-view+json": {
       "model_id": "55acf3e41caa479e9088ec5d3e62962d",
       "version_major": 2,
       "version_minor": 0
      },
      "text/plain": [
       "  0%|          | 0/4 [00:00<?, ?it/s]"
      ]
     },
     "metadata": {},
     "output_type": "display_data"
    },
    {
     "name": "stdout",
     "output_type": "stream",
     "text": [
      "arracy on test set 0.0\n"
     ]
    },
    {
     "data": {
      "application/vnd.jupyter.widget-view+json": {
       "model_id": "c19fde0cd61a4e4ab0780d8308bf8301",
       "version_major": 2,
       "version_minor": 0
      },
      "text/plain": [
       "  0%|          | 0/9 [00:00<?, ?it/s]"
      ]
     },
     "metadata": {},
     "output_type": "display_data"
    },
    {
     "name": "stdout",
     "output_type": "stream",
     "text": [
      "Epoch: 6, Loss:  4.591325759887695\n"
     ]
    },
    {
     "data": {
      "application/vnd.jupyter.widget-view+json": {
       "model_id": "1a8a91ee34f54a3eb32d9cfa06f0610c",
       "version_major": 2,
       "version_minor": 0
      },
      "text/plain": [
       "  0%|          | 0/4 [00:00<?, ?it/s]"
      ]
     },
     "metadata": {},
     "output_type": "display_data"
    },
    {
     "name": "stdout",
     "output_type": "stream",
     "text": [
      "arracy on test set 0.0\n"
     ]
    },
    {
     "data": {
      "application/vnd.jupyter.widget-view+json": {
       "model_id": "6221023f851340d18c82139100dac0a5",
       "version_major": 2,
       "version_minor": 0
      },
      "text/plain": [
       "  0%|          | 0/9 [00:00<?, ?it/s]"
      ]
     },
     "metadata": {},
     "output_type": "display_data"
    },
    {
     "name": "stdout",
     "output_type": "stream",
     "text": [
      "Epoch: 7, Loss:  4.590301990509033\n"
     ]
    },
    {
     "data": {
      "application/vnd.jupyter.widget-view+json": {
       "model_id": "af01095040304a6fa352a2dedf6cc214",
       "version_major": 2,
       "version_minor": 0
      },
      "text/plain": [
       "  0%|          | 0/4 [00:00<?, ?it/s]"
      ]
     },
     "metadata": {},
     "output_type": "display_data"
    },
    {
     "name": "stdout",
     "output_type": "stream",
     "text": [
      "arracy on test set 0.0\n"
     ]
    },
    {
     "data": {
      "application/vnd.jupyter.widget-view+json": {
       "model_id": "809701e97b66485c8a8f6d65a12b0140",
       "version_major": 2,
       "version_minor": 0
      },
      "text/plain": [
       "  0%|          | 0/9 [00:00<?, ?it/s]"
      ]
     },
     "metadata": {},
     "output_type": "display_data"
    },
    {
     "name": "stdout",
     "output_type": "stream",
     "text": [
      "Epoch: 8, Loss:  4.584939002990723\n"
     ]
    },
    {
     "data": {
      "application/vnd.jupyter.widget-view+json": {
       "model_id": "7bc82579f506430d9b517e52fd1c2603",
       "version_major": 2,
       "version_minor": 0
      },
      "text/plain": [
       "  0%|          | 0/4 [00:00<?, ?it/s]"
      ]
     },
     "metadata": {},
     "output_type": "display_data"
    },
    {
     "name": "stdout",
     "output_type": "stream",
     "text": [
      "arracy on test set 0.0\n"
     ]
    },
    {
     "data": {
      "application/vnd.jupyter.widget-view+json": {
       "model_id": "39599520550c4d2da7dc163a8f59d005",
       "version_major": 2,
       "version_minor": 0
      },
      "text/plain": [
       "  0%|          | 0/9 [00:00<?, ?it/s]"
      ]
     },
     "metadata": {},
     "output_type": "display_data"
    },
    {
     "name": "stdout",
     "output_type": "stream",
     "text": [
      "Epoch: 9, Loss:  4.586690425872803\n"
     ]
    },
    {
     "data": {
      "application/vnd.jupyter.widget-view+json": {
       "model_id": "1a90ead2ce9342fcb16cd50b53a5304f",
       "version_major": 2,
       "version_minor": 0
      },
      "text/plain": [
       "  0%|          | 0/4 [00:00<?, ?it/s]"
      ]
     },
     "metadata": {},
     "output_type": "display_data"
    },
    {
     "name": "stdout",
     "output_type": "stream",
     "text": [
      "arracy on test set 0.0\n"
     ]
    }
   ],
   "source": [
    "#Beth Proposal: When time allows, maybe we should setup something to save our epoch progress\n",
    "\n",
    "model = BERTClass(NUM_OUT)\n",
    "model.to(device)    \n",
    "\n",
    "optimizer = torch.optim.Adam(params = model.parameters(), lr=LEARNING_RATE)\n",
    "\n",
    "for epoch in range(EPOCHS):\n",
    "    loss = train(model, training_loader, optimizer)\n",
    "    print(f'Epoch: {epoch}, Loss:  {loss.item()}')  \n",
    "    guess, targs = validation(model, testing_loader)\n",
    "    guesses = guess\n",
    "    targets = targs\n",
    "    torch.save(model.state_dict(), './model.pt')\n",
    "    print('arracy on test set {}'.format(accuracy_score(guesses.numpy(), targets.numpy())))#.indices\n",
    "    # print(f'Accuracy on test set: {accuracy_score(guess.cpu().numpy(), targs.cpu().numpy())}') # Beth"
   ]
  },
  {
   "cell_type": "markdown",
   "metadata": {},
   "source": [
    "## Bird sentences into our model"
   ]
  },
  {
   "cell_type": "code",
   "execution_count": null,
   "metadata": {},
   "outputs": [
    {
     "name": "stderr",
     "output_type": "stream",
     "text": [
      "/tmp/ipykernel_29361/1357419957.py:7: UserWarning: To copy construct from a tensor, it is recommended to use sourceTensor.clone().detach() or sourceTensor.clone().detach().requires_grad_(True), rather than torch.tensor(sourceTensor).\n",
      "  self.targets = torch.tensor(labels, dtype=torch.long)\n"
     ]
    },
    {
     "data": {
      "application/vnd.jupyter.widget-view+json": {
       "model_id": "7670351d58c34e15acebc16d28953d1d",
       "version_major": 2,
       "version_minor": 0
      },
      "text/plain": [
       "  0%|          | 0/3 [00:00<?, ?it/s]"
      ]
     },
     "metadata": {},
     "output_type": "display_data"
    },
    {
     "name": "stdout",
     "output_type": "stream",
     "text": [
      "([['Pileated Woodpecker', 'Western Bluebird', 'California Quail'], ['Western Bluebird', 'Red-breasted Nuthatch', 'Tree Swallow'], ['Bald Eagle', 'Tree Swallow', 'Brown Creeper'], ['Tree Swallow', 'Bald Eagle', \"Swainson's hawk\"], ['Western Bluebird', \"Swainson's hawk\", 'Bald Eagle'], ['Tree Swallow', \"Swainson's hawk\", 'Turkey Vulture'], ['Bald Eagle', 'Belted Kingfisher', 'Western Bluebird'], [\"Swainson's hawk\", 'Tree Swallow', 'Bald Eagle'], ['Bald Eagle', 'Eurasian Collared-Dove', \"Swainson's hawk\"], ['Tree Swallow', \"Swainson's hawk\", 'Bald Eagle'], ['Pileated Woodpecker', \"Swainson's hawk\", 'Bald Eagle'], ['Yellow Warbler', 'Pileated Woodpecker', 'House finch'], ['Bald Eagle', 'Tree Swallow', 'Western Grebe'], ['Bald Eagle', 'Dark-eyed Junco', 'Tree Swallow'], [\"Swainson's hawk\", 'Tree Swallow', 'Pileated Woodpecker'], ['Western Bluebird', 'Belted Kingfisher', 'Bald Eagle'], ['Bald Eagle', 'Tree Swallow', 'Brown Creeper']], [75, 45, 87, 71, 88, 37, 70, 49, 22, 8, 55, 59, 95, 84, 5, 19, 53])\n",
      "0     0\n",
      "1     0\n",
      "2     0\n",
      "3     0\n",
      "4     0\n",
      "5     0\n",
      "6     0\n",
      "7     0\n",
      "8     0\n",
      "9     0\n",
      "10    0\n",
      "11    0\n",
      "12    0\n",
      "13    0\n",
      "14    0\n",
      "15    0\n",
      "16    0\n",
      "Name: score, dtype: int64\n",
      "\n",
      "Accuracy (score == 3): 0.00%\n"
     ]
    }
   ],
   "source": [
    "test_prompt_encoded = le.transform(Y_prompt)\n",
    "test_prompt_tensor = torch.from_numpy(test_prompt_encoded).long()\n",
    "test_data_prompt = MultiLabelDataset(X_prompt, test_prompt_tensor, tokenizer, MAX_LEN)\n",
    "testing_prompt_loader = torch.utils.data.DataLoader(test_data_prompt, **test_params)\n",
    "\n",
    "#new test\n",
    "results = validation_top3(model, testing_prompt_loader, le)\n",
    "print(results)\n",
    "prompt[\"bird_model\"] = [str(names) for names in results[0]] \n",
    "prompt.to_csv(\"prompt_eng.csv\", index=False)\n",
    "\n",
    "# Define a scoring function\n",
    "def score_match(row):\n",
    "    try:\n",
    "        index = row['bird_model'].index(row['desired_bird']) \n",
    "        prompt['bird_model'] = results[0]\n",
    "        return 3 - index  # index 0 = 3 points, index 1 = 2, index 2 = 1\n",
    "    except ValueError:\n",
    "        return 0  # not in list\n",
    "\n",
    "prompt['score'] = prompt.apply(score_match, axis=1)\n",
    "\n",
    "# Calculate accuracy based on score == 3\n",
    "accuracy = (prompt['score'] == 3).mean()\n",
    "\n",
    "# Print results\n",
    "print(prompt['score'])\n",
    "print(f\"\\nAccuracy (score == 3): {accuracy:.2%}\")"
   ]
  },
  {
   "cell_type": "code",
   "execution_count": null,
   "metadata": {},
   "outputs": [
    {
     "name": "stderr",
     "output_type": "stream",
     "text": [
      "/tmp/ipykernel_29361/1357419957.py:7: UserWarning: To copy construct from a tensor, it is recommended to use sourceTensor.clone().detach() or sourceTensor.clone().detach().requires_grad_(True), rather than torch.tensor(sourceTensor).\n",
      "  self.targets = torch.tensor(labels, dtype=torch.long)\n"
     ]
    },
    {
     "data": {
      "application/vnd.jupyter.widget-view+json": {
       "model_id": "82524749ea554d9faa5e2e97defe6ffa",
       "version_major": 2,
       "version_minor": 0
      },
      "text/plain": [
       "  0%|          | 0/3 [00:00<?, ?it/s]"
      ]
     },
     "metadata": {},
     "output_type": "display_data"
    },
    {
     "name": "stdout",
     "output_type": "stream",
     "text": [
      "([['Bald Eagle', 'Eurasian Collared-Dove', \"Swainson's hawk\"], ['Bald Eagle', 'Dark-eyed Junco', 'Tree Swallow'], ['Bald Eagle', 'Belted Kingfisher', 'Western Bluebird'], [\"Swainson's hawk\", 'Tree Swallow', 'Pileated Woodpecker'], ['Tree Swallow', 'Bald Eagle', \"Swainson's hawk\"], ['Bald Eagle', 'Tree Swallow', 'Brown Creeper'], ['Bald Eagle', 'Tree Swallow', 'Western Grebe'], ['Western Bluebird', 'Red-breasted Nuthatch', 'Tree Swallow'], ['Pileated Woodpecker', 'Western Bluebird', 'California Quail'], ['Yellow Warbler', 'Pileated Woodpecker', 'House finch'], ['Pileated Woodpecker', \"Swainson's hawk\", 'Bald Eagle'], ['Bald Eagle', 'Tree Swallow', 'Brown Creeper'], ['Tree Swallow', \"Swainson's hawk\", 'Bald Eagle'], ['Western Bluebird', 'Belted Kingfisher', 'Bald Eagle'], [\"Swainson's hawk\", 'Tree Swallow', 'Bald Eagle'], ['Tree Swallow', \"Swainson's hawk\", 'Turkey Vulture'], ['Western Bluebird', \"Swainson's hawk\", 'Bald Eagle']], [22, 84, 70, 5, 71, 53, 95, 45, 75, 59, 55, 87, 8, 19, 49, 37, 88])\n",
      "            desired_bird                                         bird_model  \\\n",
      "0         American Robin  [Bald Eagle, Eurasian Collared-Dove, Swainson'...   \n",
      "1             Bald Eagle        [Bald Eagle, Dark-eyed Junco, Tree Swallow]   \n",
      "2                 Buteos  [Bald Eagle, Belted Kingfisher, Western Bluebird]   \n",
      "3         Prairie falcon  [Swainson's hawk, Tree Swallow, Pileated Woodp...   \n",
      "4          Mourning Dove        [Tree Swallow, Bald Eagle, Swainson's hawk]   \n",
      "5            House Finch          [Bald Eagle, Tree Swallow, Brown Creeper]   \n",
      "6         Turkey Vulture          [Bald Eagle, Tree Swallow, Western Grebe]   \n",
      "7       Western Bluebird  [Western Bluebird, Red-breasted Nuthatch, Tree...   \n",
      "8            Fox sparrow  [Pileated Woodpecker, Western Bluebird, Califo...   \n",
      "9   Red-winged Blackbird  [Yellow Warbler, Pileated Woodpecker, House fi...   \n",
      "10        Spotted Towhee  [Pileated Woodpecker, Swainson's hawk, Bald Ea...   \n",
      "11          Lesser Scaup          [Bald Eagle, Tree Swallow, Brown Creeper]   \n",
      "12         Cedar waxwing        [Tree Swallow, Swainson's hawk, Bald Eagle]   \n",
      "13              Killdeer  [Western Bluebird, Belted Kingfisher, Bald Eagle]   \n",
      "14             Wood Duck        [Swainson's hawk, Tree Swallow, Bald Eagle]   \n",
      "15               Mallard    [Tree Swallow, Swainson's hawk, Turkey Vulture]   \n",
      "16        Pygmy Nuthatch    [Western Bluebird, Swainson's hawk, Bald Eagle]   \n",
      "\n",
      "        top1_prediction  match_rank  score  \n",
      "0            Bald Eagle         NaN      0  \n",
      "1            Bald Eagle         1.0      3  \n",
      "2            Bald Eagle         NaN      0  \n",
      "3       Swainson's hawk         NaN      0  \n",
      "4          Tree Swallow         NaN      0  \n",
      "5            Bald Eagle         NaN      0  \n",
      "6            Bald Eagle         NaN      0  \n",
      "7      Western Bluebird         1.0      3  \n",
      "8   Pileated Woodpecker         NaN      0  \n",
      "9        Yellow Warbler         NaN      0  \n",
      "10  Pileated Woodpecker         NaN      0  \n",
      "11           Bald Eagle         NaN      0  \n",
      "12         Tree Swallow         NaN      0  \n",
      "13     Western Bluebird         NaN      0  \n",
      "14      Swainson's hawk         NaN      0  \n",
      "15         Tree Swallow         NaN      0  \n",
      "16     Western Bluebird         NaN      0  \n",
      "Top-1 Accuracy: 11.76%\n",
      "Top-3 Accuracy: 11.76%\n"
     ]
    }
   ],
   "source": [
    "#  Beth Version of Getting Accuracy Score test\n",
    "import ast\n",
    "\n",
    "def validation_top3_vers2(model, testing_loader, le):\n",
    "    model.eval()\n",
    "    fin_targets = []\n",
    "    fin_outputs = []\n",
    "\n",
    "    with torch.no_grad():\n",
    "        for data in tqdm(testing_loader):\n",
    "            targets = data['targets']\n",
    "            ids = data['ids'].to(device)\n",
    "            mask = data['mask'].to(device)\n",
    "            token_type_ids = data['token_type_ids'].to(device)\n",
    "\n",
    "            outputs = model(ids, mask, token_type_ids)\n",
    "\n",
    "            top3_vals, top3_indices = torch.topk(outputs, k=3, dim=1)\n",
    "\n",
    "            top3_names_batch = []\n",
    "            for indices in top3_indices.cpu().numpy():\n",
    "                names = [le.classes_[i] for i in indices]\n",
    "                top3_names_batch.append(names)\n",
    "\n",
    "            fin_outputs.extend(top3_names_batch)\n",
    "            fin_targets.extend(targets.tolist())\n",
    "\n",
    "    return fin_outputs, fin_targets\n",
    " \n",
    "\n",
    "test_prompt_encoded = le.transform(Y_prompt)\n",
    "test_prompt_tensor = torch.from_numpy(test_prompt_encoded).long()\n",
    "test_data_prompt = MultiLabelDataset(X_prompt, test_prompt_tensor, tokenizer, MAX_LEN)\n",
    "testing_prompt_loader = torch.utils.data.DataLoader(test_data_prompt, **test_params)\n",
    "\n",
    "#new test\n",
    "results = validation_top3(model, testing_prompt_loader, le)\n",
    "print(results)\n",
    "# Convert string representation of lists into real Python lists\n",
    "prompt['bird_model'] = results[0]  # results[0] contains top-3 predictions\n",
    "prompt.to_csv(\"prompt_eng.csv\", index=False)\n",
    "\n",
    "# Define a scoring function\n",
    "def score_match(row):\n",
    "    try:\n",
    "        index = row['bird_model'].index(row['desired_bird'])\n",
    "        return 3 - index  # index 0 = 3 points, index 1 = 2, index 2 = 1\n",
    "    except ValueError:\n",
    "        return 0  # not in list\n",
    "\n",
    "prompt['score'] = prompt.apply(score_match, axis=1)\n",
    "\n",
    "#for our bird classifier model\n",
    "prompt['top1_prediction'] = prompt['bird_model'].apply(lambda x: x[0])\n",
    "prompt['in_top3'] = prompt.apply(lambda row: row['desired_bird'] in row['bird_model'], axis=1)\n",
    "prompt['match_rank'] = prompt.apply(lambda row: row['bird_model'].index(row['desired_bird']) + 1 if row['desired_bird'] in row['bird_model'] else None, axis=1)\n",
    "\n",
    "print(prompt[['desired_bird', 'bird_model', 'top1_prediction', 'match_rank', 'score']])\n",
    "\n",
    "# Calculate accuracy based on score == 3\n",
    "accuracy_bm = (prompt['score'] == 3).mean()\n",
    "\n",
    "print(f\"Top-1 Accuracy: {accuracy_bm:.2%}\")\n",
    "\n",
    "# Also show top-3 accuracy\n",
    "top3_accuracy_bm = prompt['in_top3'].mean()\n",
    "print(f\"Top-3 Accuracy: {top3_accuracy_bm:.2%}\")\n",
    "    "
   ]
  },
  {
   "cell_type": "code",
   "execution_count": 49,
   "metadata": {},
   "outputs": [
    {
     "data": {
      "image/png": "[encoded data removed]",
      "text/plain": [
       "<Figure size 1000x800 with 2 Axes>"
      ]
     },
     "metadata": {},
     "output_type": "display_data"
    }
   ],
   "source": [
    "#confusion matrix \n",
    "from sklearn.metrics import confusion_matrix\n",
    "#import seaborn as sns\n",
    "import matplotlib.pyplot as plt\n",
    "#get unique tags in sorted order\n",
    "tags = sorted(set(prompt['desired_bird']))\n",
    "\n",
    "confusion = confusion_matrix(prompt['desired_bird'], prompt['top1_prediction'], labels=tags)\n",
    "\n",
    "#ploting the confusion matrix\n",
    "fig, ax = plt.subplots(figsize=(10,8))\n",
    "cax = ax.matshow(confusion, cmap=\"Blues\")\n",
    "plt.colorbar(cax)\n",
    "plt.xlabel(\"Predicted Label\")\n",
    "plt.ylabel(\"True Label\")\n",
    "plt.title(\"Confusion Matrix\")\n",
    "plt.show()"
   ]
  },
  {
   "cell_type": "code",
   "execution_count": 63,
   "metadata": {},
   "outputs": [
    {
     "name": "stdout",
     "output_type": "stream",
     "text": [
      "Row 1: desired_bird = american robin, prediction = ['american robin', 'red-winged blackbird', 'house finch'], score = 3\n",
      "Row 2: desired_bird = bald eagle, prediction = ['bald eagle', 'golden eagle', 'california condor'], score = 3\n",
      "Row 3: desired_bird = buteos, prediction = ['red-tailed hawk', 'ferruginous hawk', 'northern harrier'], score = 0\n",
      "Row 4: desired_bird = prairie falcon, prediction = ['sharp-shinned hawk', \"cooper's hawk\", 'american kestrel'], score = 0\n",
      "Row 5: desired_bird = mourning dove, prediction = ['mourning dove', 'rock pigeon', 'eurasian collared-dove'], score = 3\n",
      "Row 6: desired_bird = house finch, prediction = ['house finch', \"cassin's finch\", 'purple finch'], score = 3\n",
      "Row 7: desired_bird = turkey vulture, prediction = ['turkey vulture', 'golden eagle', 'california condor'], score = 3\n",
      "Row 8: desired_bird = western bluebird, prediction = ['western bluebird', 'mountain bluebird', 'lazuli bunting'], score = 3\n",
      "Row 9: desired_bird = fox sparrow, prediction = ['common redpoll', 'pine siskin', 'american goldfinch'], score = 0\n",
      "Row 10: desired_bird = red-winged blackbird, prediction = ['red-winged blackbird', \"brewer's blackbird\", 'common raven'], score = 3\n",
      "Row 11: desired_bird = spotted towhee, prediction = ['american kestrel', 'northern flicker', \"lewis's woodpecker\"], score = 0\n",
      "Row 12: desired_bird = lesser scaup, prediction = ['lesser scaup', 'greater scaup', \"barrow's goldeneye\"], score = 3\n",
      "Row 13: desired_bird = cedar waxwing, prediction = ['american goldfinch', 'western tanager', 'yellow warbler'], score = 0\n",
      "Row 14: desired_bird = killdeer, prediction = ['house sparrow', 'white-crowned sparrow', 'vesper sparrow'], score = 0\n",
      "Row 15: desired_bird = wood duck, prediction = ['wood duck', 'harlequin duck', 'hooded merganser'], score = 3\n",
      "Row 16: desired_bird = mallard, prediction = ['mallard', 'gadwall', 'american wigeon'], score = 3\n",
      "Row 17: desired_bird = pygmy nuthatch, prediction = ['savannah sparrow', 'song sparrow', \"lincoln's sparrow\"], score = 0\n",
      "\n",
      "Total Score: 30\n",
      "Max Score: 102\n",
      "Accuracy: 29.411765\n"
     ]
    }
   ],
   "source": [
    "#get the gemini accuracy\n",
    "total_score = 0\n",
    "max_score = len(prompt) * 3\n",
    "num_rows = 0\n",
    "\n",
    "\n",
    "for index, row in prompt.iterrows():\n",
    "    desired_bird = row['desired_bird'].strip().lower()\n",
    "    predictions_raw = row['gemini_2.0_flash']\n",
    "    predictions = [p.strip().lower() for p in predictions_raw.split(',')]\n",
    "\n",
    "    score = 0\n",
    "    if len(predictions) >= 1 and desired_bird == predictions[0]:\n",
    "        score = 3\n",
    "    elif len(predictions) >= 2 and desired_bird == predictions[1]:\n",
    "        score = 2 \n",
    "    elif len(predictions) >= 3 and desired_bird == predictions[2]:\n",
    "        score = 1\n",
    "    else:\n",
    "        score = 0\n",
    "\n",
    "    total_score += score\n",
    "    max_score += 3\n",
    "    num_rows += 1\n",
    "    print(f\"Row {num_rows}: desired_bird = {desired_bird}, prediction = {predictions}, score = {score}\")\n",
    "    \n",
    "accuracy = total_score / max_score if max_score > 0  else 0\n",
    "accuracy = accuracy * 100\n",
    "print(f\"\\nTotal Score: {total_score}\")\n",
    "print(f\"Max Score: {max_score}\")\n",
    "print(f\"Accuracy: {accuracy:2f}\")"
   ]
  }
 ],
 "metadata": {
  "kernelspec": {
   "display_name": "conda_python3",
   "language": "python",
   "name": "conda_python3"
  },
  "language_info": {
   "codemirror_mode": {
    "name": "ipython",
    "version": 3
   },
   "file_extension": ".py",
   "mimetype": "text/x-python",
   "name": "python",
   "nbconvert_exporter": "python",
   "pygments_lexer": "ipython3",
   "version": "3.10.17"
  }
 },
 "nbformat": 4,
 "nbformat_minor": 4
}
